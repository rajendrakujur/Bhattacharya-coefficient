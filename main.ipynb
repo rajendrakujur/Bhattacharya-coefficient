{
 "cells": [
  {
   "cell_type": "markdown",
   "metadata": {},
   "source": [
    "### Importing all necessary libraries"
   ]
  },
  {
   "cell_type": "code",
   "execution_count": 1,
   "metadata": {},
   "outputs": [],
   "source": [
    "import numpy as np\n",
    "import matplotlib.pyplot as plt\n",
    "import random\n",
    "import math"
   ]
  },
  {
   "cell_type": "markdown",
   "metadata": {},
   "source": [
    "### Generate points for S_1"
   ]
  },
  {
   "cell_type": "code",
   "execution_count": 2,
   "metadata": {},
   "outputs": [],
   "source": [
    "def generateNumbers(x_min, x_max,number_of_points):\n",
    "    points = np.random.randint(x_min, x_max, number_of_points)\n",
    "    return points"
   ]
  },
  {
   "cell_type": "markdown",
   "metadata": {},
   "source": [
    "### Calculating Probability distribution function"
   ]
  },
  {
   "cell_type": "code",
   "execution_count": 3,
   "metadata": {},
   "outputs": [],
   "source": [
    "# Will store x values in 0th index and cumulative value till that point in 1th index\n",
    "def generateCDF(pmf):\n",
    "    cdf = []\n",
    "    cum_sum = 0\n",
    "    for index in range(len(pmf)):\n",
    "\n",
    "        # make a fresh list to store cdf at a particular point\n",
    "        cdf_at_x = []\n",
    "        \n",
    "        # first append the x value\n",
    "        cdf_at_x.append(pmf[index][0])\n",
    "\n",
    "        cum_sum += pmf[index][1]\n",
    "        # then append the corresponding cdf value\n",
    "        cdf_at_x.append(cum_sum)\n",
    "\n",
    "        # finally append it to the cdf function\n",
    "        cdf.append(cdf_at_x)\n",
    "\n",
    "    cdf = np.array(cdf)\n",
    "    return cdf"
   ]
  },
  {
   "cell_type": "markdown",
   "metadata": {},
   "source": [
    "### Generates points within given range and returns"
   ]
  },
  {
   "cell_type": "code",
   "execution_count": 4,
   "metadata": {},
   "outputs": [],
   "source": [
    "def generatePoints(x_min, x_max,number_of_points):\n",
    "    points = np.random.randint(x_min, x_max, number_of_points)\n",
    "    return points"
   ]
  },
  {
   "cell_type": "markdown",
   "metadata": {},
   "source": [
    "#### Generating S_1\n",
    "    at x_min, x_max = -750, 750\n",
    "    number_of_points = 5000\n",
    "    bin_size = 5"
   ]
  },
  {
   "cell_type": "code",
   "execution_count": 5,
   "metadata": {},
   "outputs": [
    {
     "data": {
      "image/png": "[encoded data removed]",
      "text/plain": [
       "<Figure size 432x288 with 1 Axes>"
      ]
     },
     "metadata": {
      "needs_background": "light"
     },
     "output_type": "display_data"
    }
   ],
   "source": [
    "x_min, x_max = -750, 750\n",
    "number_of_points_P = 5000\n",
    "bin_size = 5\n",
    "\n",
    "# Store the generated points into S_1\n",
    "S_1 = generatePoints(x_min, x_max, number_of_points_P)\n",
    "\n",
    "# plot the histogram for the generated points\n",
    "plt.hist(S_1, bins = int((x_max-x_min)/bin_size))\n",
    "plt.xlabel('x')\n",
    "plt.ylabel('Frequency')\n",
    "plt.title('Histogram of generated points S_1')\n",
    "plt.show()\n",
    "\n",
    "# Calculate and store x_values and bin_frequncies\n",
    "hist, bin_edges = np.histogram(S_1, bins = int((x_max-x_min)/bin_size))\n",
    "\n",
    "# probability mass function stores as (xi, Pi) where xi is event and Pi is probability of occuring the event \n",
    "pmf = [[(int(bin_edges[i]+bin_edges[i+1]))/2, hist[i]/number_of_points_P] for i in range(len(hist))]\n",
    "\n",
    "# probability mass function of P\n",
    "pmf_P = np.array(pmf)\n",
    "\n",
    "# cumulative distribution of P\n",
    "cdf_P = generateCDF(pmf_P)\n",
    "# separate out the values and store into individual arrays x_values and probability_values\n",
    "# x_values = np.array([pmf[i][0] for i in range(len(pmf))])\n",
    "# prob_values = np.array([pmf[i][1] for i in range(len(pmf))])"
   ]
  },
  {
   "cell_type": "markdown",
   "metadata": {},
   "source": [
    "### Generates random number the above generated distribution"
   ]
  },
  {
   "cell_type": "code",
   "execution_count": 6,
   "metadata": {},
   "outputs": [],
   "source": [
    "def generateFromP(x_min, x_max, pmf, cdf, number_of_points):\n",
    "\n",
    "    points = []\n",
    "    \n",
    "    # loop untill we generate required number of points\n",
    "    while len(points) < number_of_points:\n",
    "        \n",
    "        # First generate a random value uniformly i.e. p~U(0,1)\n",
    "        random_value = np.random.uniform(0,1)\n",
    "        \n",
    "        index = 0\n",
    "        for index in range(len(pmf)): \n",
    "            # if we hit cdf valeu greater than random value then generate x from the formula\n",
    "            \n",
    "            if cdf[index][1] > random_value:\n",
    "                \n",
    "                # if we get the random_value is even less than the first cdf_value\n",
    "                if index == 0:\n",
    "                    x = ((random_value - 0)*(cdf[index][0] - x_min)/pmf[index][1]) + x_min\n",
    "                else:\n",
    "                    # since we are at (r+1) i.e. index so our calculation will be in index and index -1\n",
    "                    x = ((random_value - cdf[index-1][1])*(cdf[index][0] - cdf[index-1][0])/pmf[index][1]) + cdf[index-1][0]\n",
    "                \n",
    "                # append the obtained x into points and break from loop to generate the next point\n",
    "                points.append(x)\n",
    "                \n",
    "                break\n",
    "    \n",
    "    points = np.array(points)\n",
    "    \n",
    "    return points"
   ]
  },
  {
   "cell_type": "markdown",
   "metadata": {},
   "source": [
    "#### Generating Q (will be stored in S_2) from the distribution of P (which having points in S_1)\n",
    "     at x_min, x_max = -750, 750\n",
    "        number_of_points = 3000\n",
    "        bin_size = 10"
   ]
  },
  {
   "cell_type": "code",
   "execution_count": 7,
   "metadata": {},
   "outputs": [
    {
     "data": {
      "image/png": "[encoded data removed]",
      "text/plain": [
       "<Figure size 432x288 with 1 Axes>"
      ]
     },
     "metadata": {
      "needs_background": "light"
     },
     "output_type": "display_data"
    }
   ],
   "source": [
    "x_min, x_max = -750, 750\n",
    "number_of_points_Q = 3000\n",
    "bin_size = 5\n",
    "# Store the generated points into S_2\n",
    "S_2 = generateFromP(x_min, x_max, pmf_P, cdf_P, number_of_points_Q)\n",
    "\n",
    "# plot the histogram for the generated points\n",
    "plt.hist(S_2, bins = int((x_max-x_min)/bin_size))\n",
    "plt.xlabel('x')\n",
    "plt.ylabel('Frequency')\n",
    "plt.title('S_2 (Histogram of points generated using pmf of S_1)')\n",
    "plt.show()\n",
    "\n",
    "# Calculate and store x_values and bin_frequncies\n",
    "hist, bin_edges = np.histogram(S_2, bins = int((x_max-x_min)/bin_size))\n",
    "\n",
    "# probability mass function stores as (xi, Pi) where xi is event and Pi is probability of occuring the event \n",
    "pmf = [[(int(bin_edges[i]+bin_edges[i+1]))/2, hist[i]/number_of_points_Q] for i in range(len(hist))]\n",
    "\n",
    "# probability mass function of Q\n",
    "pmf_Q = np.array(pmf)\n",
    "\n",
    "# cumulative distribution of PQ\n",
    "cdf_Q = generateCDF(pmf_Q)"
   ]
  },
  {
   "cell_type": "markdown",
   "metadata": {},
   "source": [
    "### Comparing the Distributions #1"
   ]
  },
  {
   "cell_type": "code",
   "execution_count": 8,
   "metadata": {},
   "outputs": [
    {
     "name": "stdout",
     "output_type": "stream",
     "text": [
      "Result\n",
      "\n",
      "x_min : -750 \tx_max : 750 \tbin size : 5\n",
      "\n",
      "For P\n",
      "n : 5000 \n",
      "\n",
      "\n",
      "For Q\n",
      "n' : 3000 \n",
      "\n",
      "Bhattacharya Coefficient : 0.9855593128531851\n"
     ]
    }
   ],
   "source": [
    "# Calculate number of bins\n",
    "number_of_bins = int((x_max-x_min)/bin_size)\n",
    "\n",
    "# store the multiple and sqaure root into BC_sequence for final summation\n",
    "BC_sequence = np.array([(pmf_P[i][1]*pmf_Q[i][1])**0.50 for i in range(number_of_bins)])\n",
    "\n",
    "# sum all the elements obtained in BC_sequence\n",
    "BC_of_PQ = sum(BC_sequence)\n",
    "\n",
    "# Print result\n",
    "print('Result')\n",
    "print(f'\\nx_min : {x_min} \\tx_max : {x_max} \\tbin size : {bin_size}')\n",
    "print(f'\\nFor P\\nn : {number_of_points_P} \\n')\n",
    "print(f\"\\nFor Q\\nn' : {number_of_points_Q} \\n\")\n",
    "print(f'Bhattacharya Coefficient : {BC_of_PQ}')"
   ]
  },
  {
   "cell_type": "markdown",
   "metadata": {},
   "source": [
    "### Comparing Distribution #2:"
   ]
  },
  {
   "cell_type": "markdown",
   "metadata": {},
   "source": [
    "#### Generating S_1\n",
    "    at x_min, x_max = -750, 750\n",
    "    number_of_points = 6000\n",
    "    bin_size = 4"
   ]
  },
  {
   "cell_type": "code",
   "execution_count": 9,
   "metadata": {},
   "outputs": [
    {
     "data": {
      "image/png": "[encoded data removed]",
      "text/plain": [
       "<Figure size 432x288 with 1 Axes>"
      ]
     },
     "metadata": {
      "needs_background": "light"
     },
     "output_type": "display_data"
    }
   ],
   "source": [
    "# Execution begins here\n",
    "x_min, x_max = -750, 750\n",
    "number_of_points_P = 6000\n",
    "bin_size = 4\n",
    "\n",
    "# Store the generated points into S_1\n",
    "S_1 = generatePoints(x_min, x_max, number_of_points_P)\n",
    "\n",
    "# plot the histogram for the generated points\n",
    "plt.hist(S_1, bins = int((x_max-x_min)/bin_size))\n",
    "plt.xlabel('x')\n",
    "plt.ylabel('Frequency')\n",
    "plt.title('Histogram of generated points S_1')\n",
    "plt.show()\n",
    "\n",
    "# Calculate and store x_values and bin_frequncies\n",
    "hist, bin_edges = np.histogram(S_1, bins = int((x_max-x_min)/bin_size))\n",
    "\n",
    "# probability mass function stores as (xi, Pi) where xi is event and Pi is probability of occuring the event \n",
    "pmf = [[(int(bin_edges[i]+bin_edges[i+1]))/2, round(hist[i]/number_of_points_P, 5)] for i in range(len(hist))]\n",
    "\n",
    "# probability mass function of P\n",
    "pmf_P = np.array(pmf)\n",
    "\n",
    "# cumulative distribution of P\n",
    "cdf_P = generateCDF(pmf_P)"
   ]
  },
  {
   "cell_type": "markdown",
   "metadata": {},
   "source": [
    "#### Generating Q (will be stored in S_2) from the distribution of P (which having points in S_1)\n",
    "     at x_min, x_max = -750, 750\n",
    "        number_of_points = 4000\n",
    "        bin_size = 4"
   ]
  },
  {
   "cell_type": "code",
   "execution_count": 10,
   "metadata": {},
   "outputs": [
    {
     "data": {
      "image/png": "[encoded data removed]",
      "text/plain": [
       "<Figure size 432x288 with 1 Axes>"
      ]
     },
     "metadata": {
      "needs_background": "light"
     },
     "output_type": "display_data"
    }
   ],
   "source": [
    "x_min, x_max = -750, 750\n",
    "number_of_points_Q = 4000\n",
    "bin_size = 4\n",
    "# Store the generated points into S_2\n",
    "S_2 = generateFromP(x_min, x_max, pmf_P, cdf_P, number_of_points_Q)\n",
    "\n",
    "# plot the histogram for the generated points\n",
    "plt.hist(S_2, bins = int((x_max-x_min)/bin_size))\n",
    "plt.xlabel('x')\n",
    "plt.ylabel('Frequency')\n",
    "plt.title('S_2 (Histogram of points generated using pmf of S_1)')\n",
    "plt.show()\n",
    "\n",
    "# Calculate and store x_values and bin_frequncies\n",
    "hist, bin_edges = np.histogram(S_2, bins = int((x_max-x_min)/bin_size))\n",
    "\n",
    "# probability mass function stores as (xi, Pi) where xi is event and Pi is probability of occuring the event \n",
    "pmf = [[(int(bin_edges[i]+bin_edges[i+1]))/2, round(hist[i]/number_of_points_Q, 5)] for i in range(len(hist))]\n",
    "\n",
    "# probability mass function of Q\n",
    "pmf_Q = np.array(pmf)\n",
    "\n",
    "# cumulative distribution of Q\n",
    "cdf_Q = generateCDF(pmf_Q)"
   ]
  },
  {
   "cell_type": "markdown",
   "metadata": {},
   "source": [
    "#### Calculating Bhattacharya Coefficient and Results"
   ]
  },
  {
   "cell_type": "code",
   "execution_count": 11,
   "metadata": {},
   "outputs": [
    {
     "name": "stdout",
     "output_type": "stream",
     "text": [
      "Result\n",
      "\n",
      "x_min : -750 \tx_max : 750 \tbin size : 4\n",
      "\n",
      "For P\n",
      "n : 6000 \n",
      "\n",
      "\n",
      "For Q\n",
      "n' : 4000 \n",
      "\n",
      "Bhattacharya Coefficient : 0.9859367950455357\n"
     ]
    }
   ],
   "source": [
    "# Calculate number of bins\n",
    "number_of_bins = int((x_max-x_min)/bin_size)\n",
    "\n",
    "# store the multiple and sqaure root into BC_sequence for final summation\n",
    "BC_sequence = np.array([(pmf_P[i][1]*pmf_Q[i][1])**0.50 for i in range(number_of_bins)])\n",
    "\n",
    "# sum all the elements obtained in BC_sequence\n",
    "BC_of_PQ = sum(BC_sequence)\n",
    "\n",
    "# Print result\n",
    "print('Result')\n",
    "print(f'\\nx_min : {x_min} \\tx_max : {x_max} \\tbin size : {bin_size}')\n",
    "print(f'\\nFor P\\nn : {number_of_points_P} \\n')\n",
    "print(f\"\\nFor Q\\nn' : {number_of_points_Q} \\n\")\n",
    "print(f'Bhattacharya Coefficient : {BC_of_PQ}')"
   ]
  },
  {
   "cell_type": "markdown",
   "metadata": {},
   "source": [
    "#### Comparing Distribution #3:"
   ]
  },
  {
   "cell_type": "markdown",
   "metadata": {},
   "source": [
    "#### Generating S_1\n",
    "    at x_min, x_max = -750, 750\n",
    "    number_of_points = 4000\n",
    "    bin_size = 10"
   ]
  },
  {
   "cell_type": "code",
   "execution_count": 12,
   "metadata": {},
   "outputs": [
    {
     "data": {
      "image/png": "[encoded data removed]",
      "text/plain": [
       "<Figure size 432x288 with 1 Axes>"
      ]
     },
     "metadata": {
      "needs_background": "light"
     },
     "output_type": "display_data"
    }
   ],
   "source": [
    "# Execution begins here\n",
    "x_min, x_max = -750, 750\n",
    "number_of_points_P = 4000\n",
    "bin_size = 10\n",
    "\n",
    "# Store the generated points into S_1\n",
    "S_1 = generatePoints(x_min, x_max, number_of_points_P)\n",
    "\n",
    "# plot the histogram for the generated points\n",
    "plt.hist(S_1, bins = int((x_max-x_min)/bin_size))\n",
    "plt.xlabel('x')\n",
    "plt.ylabel('Frequency')\n",
    "plt.title('Histogram of generated points S_1')\n",
    "plt.show()\n",
    "\n",
    "# Calculate and store x_values and bin_frequncies\n",
    "hist, bin_edges = np.histogram(S_1, bins = int((x_max-x_min)/bin_size))\n",
    "\n",
    "# probability mass function stores as (xi, Pi) where xi is event and Pi is probability of occuring the event \n",
    "pmf = [[(int(bin_edges[i]+bin_edges[i+1]))/2, round(hist[i]/number_of_points_P, 5)] for i in range(len(hist))]\n",
    "\n",
    "# probability mass function of P\n",
    "pmf_P = np.array(pmf)\n",
    "\n",
    "# cumulative distribution of P\n",
    "cdf_P = generateCDF(pmf_P)"
   ]
  },
  {
   "cell_type": "markdown",
   "metadata": {},
   "source": [
    "#### Generating Q (will be stored in S_2) from the distribution of P (which having points in S_1)\n",
    "     at x_min, x_max = -750, 750\n",
    "        number_of_points = 2500\n",
    "        bin_size = 10"
   ]
  },
  {
   "cell_type": "code",
   "execution_count": 13,
   "metadata": {},
   "outputs": [
    {
     "data": {
      "image/png": "[encoded data removed]",
      "text/plain": [
       "<Figure size 432x288 with 1 Axes>"
      ]
     },
     "metadata": {
      "needs_background": "light"
     },
     "output_type": "display_data"
    }
   ],
   "source": [
    "x_min, x_max = -750, 750\n",
    "number_of_points_Q = 2500\n",
    "bin_size = 10\n",
    "# Store the generated points into S_2\n",
    "S_2 = generateFromP(x_min, x_max, pmf_P, cdf_P, number_of_points_Q)\n",
    "\n",
    "# plot the histogram for the generated points\n",
    "plt.hist(S_2, bins = int((x_max-x_min)/bin_size))\n",
    "plt.xlabel('x')\n",
    "plt.ylabel('Frequency')\n",
    "plt.title('S_2 (Histogram of points generated using pmf of S_1)')\n",
    "plt.show()\n",
    "\n",
    "# Calculate and store x_values and bin_frequncies\n",
    "hist, bin_edges = np.histogram(S_2, bins = int((x_max-x_min)/bin_size))\n",
    "\n",
    "# probability mass function stores as (xi, Pi) where xi is event and Pi is probability of occuring the event \n",
    "pmf = [[(int(bin_edges[i]+bin_edges[i+1]))/2, round(hist[i]/number_of_points_Q, 5)] for i in range(len(hist))]\n",
    "\n",
    "# probability mass function of Q\n",
    "pmf_Q = np.array(pmf)\n",
    "\n",
    "# cumulative distribution of Q\n",
    "cdf_Q = generateCDF(pmf_Q)"
   ]
  },
  {
   "cell_type": "markdown",
   "metadata": {},
   "source": [
    "#### Calculating Bhattacharya Coefficient and Results"
   ]
  },
  {
   "cell_type": "code",
   "execution_count": 14,
   "metadata": {},
   "outputs": [
    {
     "name": "stdout",
     "output_type": "stream",
     "text": [
      "Result\n",
      "\n",
      "x_min : -750 \tx_max : 750 \tbin size : 10\n",
      "\n",
      "For P\n",
      "n : 4000 \n",
      "\n",
      "\n",
      "For Q\n",
      "n' : 2500 \n",
      "\n",
      "Bhattacharya Coefficient : 0.9931067473271663\n"
     ]
    }
   ],
   "source": [
    "# Calculate number of bins\n",
    "number_of_bins = int((x_max-x_min)/bin_size)\n",
    "\n",
    "# store the multiple and sqaure root into BC_sequence for final summation\n",
    "BC_sequence = np.array([(pmf_P[i][1]*pmf_Q[i][1])**0.50 for i in range(number_of_bins)])\n",
    "\n",
    "# sum all the elements obtained in BC_sequence\n",
    "BC_of_PQ = sum(BC_sequence)\n",
    "\n",
    "# Print result\n",
    "print('Result')\n",
    "print(f'\\nx_min : {x_min} \\tx_max : {x_max} \\tbin size : {bin_size}')\n",
    "print(f'\\nFor P\\nn : {number_of_points_P} \\n')\n",
    "print(f\"\\nFor Q\\nn' : {number_of_points_Q} \\n\")\n",
    "print(f'Bhattacharya Coefficient : {BC_of_PQ}')"
   ]
  },
  {
   "cell_type": "markdown",
   "metadata": {},
   "source": [
    "### Comparing Distribution #4:"
   ]
  },
  {
   "cell_type": "markdown",
   "metadata": {},
   "source": [
    "#### Generating S_1\n",
    "    at x_min, x_max = -750, 750\n",
    "    number_of_points = 10000\n",
    "    bin_size = 20"
   ]
  },
  {
   "cell_type": "code",
   "execution_count": 15,
   "metadata": {},
   "outputs": [
    {
     "data": {
      "image/png": "[encoded data removed]",
      "text/plain": [
       "<Figure size 432x288 with 1 Axes>"
      ]
     },
     "metadata": {
      "needs_background": "light"
     },
     "output_type": "display_data"
    }
   ],
   "source": [
    "# Execution begins here\n",
    "x_min, x_max = -750, 750\n",
    "number_of_points_P = 10000\n",
    "bin_size = 20\n",
    "\n",
    "# Store the generated points into S_1\n",
    "S_1 = generatePoints(x_min, x_max, number_of_points_P)\n",
    "\n",
    "# plot the histogram for the generated points\n",
    "plt.hist(S_1, bins = int((x_max-x_min)/bin_size))\n",
    "plt.xlabel('x')\n",
    "plt.ylabel('Frequency')\n",
    "plt.title('Histogram of generated points S_1')\n",
    "plt.show()\n",
    "\n",
    "# Calculate and store x_values and bin_frequncies\n",
    "hist, bin_edges = np.histogram(S_1, bins = int((x_max-x_min)/bin_size))\n",
    "\n",
    "# probability mass function stores as (xi, Pi) where xi is event and Pi is probability of occuring the event \n",
    "pmf = [[(int(bin_edges[i]+bin_edges[i+1]))/2, round(hist[i]/number_of_points_P, 5)] for i in range(len(hist))]\n",
    "\n",
    "# probability mass function of P\n",
    "pmf_P = np.array(pmf)\n",
    "\n",
    "# cumulative distribution of P\n",
    "cdf_P = generateCDF(pmf_P)"
   ]
  },
  {
   "cell_type": "markdown",
   "metadata": {},
   "source": [
    "#### Generating Q (will be stored in S_2) from the distribution of P (which having points in S_1)\n",
    "     at x_min, x_max = -750, 750\n",
    "        number_of_points = 8000\n",
    "        bin_size = 20"
   ]
  },
  {
   "cell_type": "code",
   "execution_count": 16,
   "metadata": {},
   "outputs": [
    {
     "data": {
      "image/png": "[encoded data removed]",
      "text/plain": [
       "<Figure size 432x288 with 1 Axes>"
      ]
     },
     "metadata": {
      "needs_background": "light"
     },
     "output_type": "display_data"
    }
   ],
   "source": [
    "x_min, x_max = -750, 750\n",
    "number_of_points_Q = 8000\n",
    "bin_size = 20\n",
    "# Store the generated points into S_2\n",
    "S_2 = generateFromP(x_min, x_max, pmf_P, cdf_P, number_of_points_Q)\n",
    "\n",
    "# plot the histogram for the generated points\n",
    "plt.hist(S_2, bins = int((x_max-x_min)/bin_size))\n",
    "plt.xlabel('x')\n",
    "plt.ylabel('Frequency')\n",
    "plt.title('S_2 (Histogram of points generated using pmf of S_1)')\n",
    "plt.show()\n",
    "\n",
    "# Calculate and store x_values and bin_frequncies\n",
    "hist, bin_edges = np.histogram(S_2, bins = int((x_max-x_min)/bin_size))\n",
    "\n",
    "# probability mass function stores as (xi, Pi) where xi is event and Pi is probability of occuring the event \n",
    "pmf = [[(int(bin_edges[i]+bin_edges[i+1]))/2, round(hist[i]/number_of_points_Q, 5)] for i in range(len(hist))]\n",
    "\n",
    "# probability mass function of Q\n",
    "pmf_Q = np.array(pmf)\n",
    "\n",
    "# cumulative distribution of Q\n",
    "cdf_Q = generateCDF(pmf_Q)"
   ]
  },
  {
   "cell_type": "markdown",
   "metadata": {},
   "source": [
    "#### Calculating Bhattacharya Coefficient and Results"
   ]
  },
  {
   "cell_type": "code",
   "execution_count": 17,
   "metadata": {},
   "outputs": [
    {
     "name": "stdout",
     "output_type": "stream",
     "text": [
      "Result\n",
      "\n",
      "x_min : -750 \tx_max : 750 \tbin size : 20\n",
      "\n",
      "For P\n",
      "n : 10000 \n",
      "\n",
      "\n",
      "For Q\n",
      "n' : 8000 \n",
      "\n",
      "Bhattacharya Coefficient : 0.9981459029153776\n"
     ]
    }
   ],
   "source": [
    "# Calculate number of bins\n",
    "number_of_bins = int((x_max-x_min)/bin_size)\n",
    "\n",
    "# store the multiple and sqaure root into BC_sequence for final summation\n",
    "BC_sequence = np.array([(pmf_P[i][1]*pmf_Q[i][1])**0.50 for i in range(number_of_bins)])\n",
    "\n",
    "# sum all the elements obtained in BC_sequence\n",
    "BC_of_PQ = sum(BC_sequence)\n",
    "\n",
    "# Print result\n",
    "print('Result')\n",
    "print(f'\\nx_min : {x_min} \\tx_max : {x_max} \\tbin size : {bin_size}')\n",
    "print(f'\\nFor P\\nn : {number_of_points_P} \\n')\n",
    "print(f\"\\nFor Q\\nn' : {number_of_points_Q} \\n\")\n",
    "print(f'Bhattacharya Coefficient : {BC_of_PQ}')"
   ]
  }
 ],
 "metadata": {
  "interpreter": {
   "hash": "1ef2818c55ffc97d79a698210e2a08efae207ee2cec6a0fd090b9cab7f2f8125"
  },
  "kernelspec": {
   "display_name": "Python 3.9.7 ('base')",
   "language": "python",
   "name": "python3"
  },
  "language_info": {
   "codemirror_mode": {
    "name": "ipython",
    "version": 3
   },
   "file_extension": ".py",
   "mimetype": "text/x-python",
   "name": "python",
   "nbconvert_exporter": "python",
   "pygments_lexer": "ipython3",
   "version": "3.9.7"
  },
  "orig_nbformat": 4
 },
 "nbformat": 4,
 "nbformat_minor": 2
}
